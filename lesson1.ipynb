{
 "cells": [
  {
   "cell_type": "code",
   "execution_count": null,
   "metadata": {},
   "outputs": [],
   "source": [
    "Fork-Это операция клонирование чужого репозитория на свой личный аккаунт гитхаба,позволяет сделать pull-requests,\n",
    "Pull requests-это операция позволяет передать изминения из личного репозитория в форкнутый репозитории.\n"
   ]
  },
  {
   "cell_type": "markdown",
   "metadata": {},
   "source": [
    "lINTER-это инструмент позволяющее анализировать код на ошибки и стиль кодирования согласно PEP8.\n",
    "Flake8-это и есть linter.\n",
    "Black(SHIFT+ALT+F)-автоформатирование кода согласно linter."
   ]
  }
 ],
 "metadata": {
  "language_info": {
   "name": "python"
  },
  "orig_nbformat": 4
 },
 "nbformat": 4,
 "nbformat_minor": 2
}
